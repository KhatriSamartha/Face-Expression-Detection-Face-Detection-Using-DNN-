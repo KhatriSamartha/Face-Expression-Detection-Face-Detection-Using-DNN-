{
 "cells": [
  {
   "cell_type": "markdown",
   "metadata": {},
   "source": [
    "# Face Expression Detection (Face Detection Using DNN)\n"
   ]
  },
  {
   "cell_type": "code",
   "execution_count": 7,
   "metadata": {},
   "outputs": [],
   "source": [
    "import cv2,time\n",
    "import numpy as np\n",
    "from tensorflow.keras.models import load_model\n",
    "# Loading model\n",
    "newmodel = load_model('FaceExpressionDetection.h5')\n",
    "expression=['angry','disgust','fear','happy','neutral','sad','surprise'] \n",
    "net = cv2.dnn.readNetFromCaffe('deploy.prototxt.txt','res10_300x300_ssd_iter_140000.caffemodel')"
   ]
  },
  {
   "cell_type": "code",
   "execution_count": 8,
   "metadata": {},
   "outputs": [],
   "source": [
    "def facedetect(img):\n",
    "   \n",
    "    img = cv2.resize(img,(900,700))\n",
    "    (h,w) = img.shape[:2]\n",
    "    blob = cv2.dnn.blobFromImage(cv2.resize(img,(300,300)),1.0,(300,300),(104.0, 177.0, 123.0))\n",
    "    # print(\"[INFO] computing object detections...\")\n",
    "    net.setInput(blob)\n",
    "    detections = net.forward()\n",
    "    #[,frame,no of detections,[classid,class score,conf,x,y,h,w]]\n",
    "    # print(detections)\n",
    "    for i in range(0,detections.shape[2]):\n",
    "        #extract the confidence (i.e., probability) associated with the prediction\n",
    "        confidence = detections[0,0,i,2]\n",
    "    #     print(confidence)\n",
    "        if confidence > 0.5:\n",
    "            #compute the (x,y) -coordinates of the bounding box for the object\n",
    "            box = detections[0,0,i,3:7] * np.array([w,h,w,h])\n",
    "            (startx,starty,endx,endy)=box.astype(\"int\")\n",
    "#             text = \"{:.2f}%\".format(confidence*100)\n",
    "            \n",
    "            faceforpredict = img[starty:endy,startx:endx]\n",
    "            Cvt_gray = cv2.cvtColor(faceforpredict,cv2.COLOR_BGR2GRAY)\n",
    "#             print(Cvt_gray.shape)\n",
    "            resize = cv2.resize(Cvt_gray,(48,48))/255.0;\n",
    "#             print(resize.shape)\n",
    "            reshaped = np.reshape(resize,(1,48,48,1));\n",
    "#             print(reshaped.shape)\n",
    "            prediction = newmodel.predict(reshaped)\n",
    "#             print(prediction)\n",
    "            max = np.argmax(prediction)\n",
    "#             print(max)            \n",
    "            \n",
    "            y = starty-10 if starty-10 >10 else starty+10\n",
    "            cv2.rectangle(img,(startx,starty),(endx,endy),(0,0,255),2)\n",
    "            cv2.putText(img,expression[max],(startx,y),cv2.FONT_HERSHEY_SIMPLEX,0.45,(0,0,255),2)\n",
    "    return img"
   ]
  },
  {
   "cell_type": "code",
   "execution_count": 9,
   "metadata": {},
   "outputs": [],
   "source": [
    "video = cv2.VideoCapture(0)\n",
    "while True:\n",
    "    check,frame = video.read()\n",
    "    img = facedetect(frame)\n",
    "#     resized_image1 = cv2.resize(img,(900,700))\n",
    "    cv2.imshow(\"live\",img)\n",
    "    key = cv2.waitKey(5)\n",
    "    if key == ord('q'):\n",
    "        break\n",
    "\n",
    "video.release()\n",
    "cv2.destroyAllWindows()  \n"
   ]
  },
  {
   "cell_type": "code",
   "execution_count": null,
   "metadata": {},
   "outputs": [],
   "source": []
  }
 ],
 "metadata": {
  "kernelspec": {
   "display_name": "Python 3",
   "language": "python",
   "name": "python3"
  },
  "language_info": {
   "codemirror_mode": {
    "name": "ipython",
    "version": 3
   },
   "file_extension": ".py",
   "mimetype": "text/x-python",
   "name": "python",
   "nbconvert_exporter": "python",
   "pygments_lexer": "ipython3",
   "version": "3.8.3"
  }
 },
 "nbformat": 4,
 "nbformat_minor": 4
}
